{
 "cells": [
  {
   "cell_type": "code",
   "execution_count": 1,
   "id": "4a29a780",
   "metadata": {},
   "outputs": [],
   "source": [
    "import numpy as np\n",
    "import cv2 "
   ]
  },
  {
   "cell_type": "code",
   "execution_count": 2,
   "id": "a7697bd0",
   "metadata": {},
   "outputs": [],
   "source": []
  },
  {
   "cell_type": "code",
   "execution_count": 3,
   "id": "84a0c08d",
   "metadata": {},
   "outputs": [],
   "source": [
    "block_width_px = 705\n",
    "block_width_mm = 30.0\n",
    "scale = block_width_mm / block_width_px"
   ]
  },
  {
   "cell_type": "code",
   "execution_count": 29,
   "id": "49f476bc",
   "metadata": {},
   "outputs": [
    {
     "ename": "AttributeError",
     "evalue": "'tuple' object has no attribute 'distance'",
     "output_type": "error",
     "traceback": [
      "\u001b[1;31m---------------------------------------------------------------------------\u001b[0m",
      "\u001b[1;31mAttributeError\u001b[0m                            Traceback (most recent call last)",
      "Cell \u001b[1;32mIn[29], line 15\u001b[0m\n\u001b[0;32m     12\u001b[0m matches \u001b[38;5;241m=\u001b[39m flann\u001b[38;5;241m.\u001b[39mknnMatch(des1,des2,k\u001b[38;5;241m=\u001b[39m\u001b[38;5;241m2\u001b[39m)\n\u001b[0;32m     14\u001b[0m \u001b[38;5;66;03m# Sort them in the order of their distance.\u001b[39;00m\n\u001b[1;32m---> 15\u001b[0m matches \u001b[38;5;241m=\u001b[39m \u001b[38;5;28msorted\u001b[39m(matches, key \u001b[38;5;241m=\u001b[39m \u001b[38;5;28;01mlambda\u001b[39;00m x:x\u001b[38;5;241m.\u001b[39mdistance)\n\u001b[0;32m     17\u001b[0m \u001b[38;5;66;03m# Draw first 10 matches.\u001b[39;00m\n\u001b[0;32m     18\u001b[0m img3 \u001b[38;5;241m=\u001b[39m cv2\u001b[38;5;241m.\u001b[39mdrawMatches(img1,kps1,img2,kps2,matches[:\u001b[38;5;241m10\u001b[39m],\u001b[38;5;28;01mNone\u001b[39;00m,flags\u001b[38;5;241m=\u001b[39mcv2\u001b[38;5;241m.\u001b[39mDrawMatchesFlags_NOT_DRAW_SINGLE_POINTS)\n",
      "Cell \u001b[1;32mIn[29], line 15\u001b[0m, in \u001b[0;36m<lambda>\u001b[1;34m(x)\u001b[0m\n\u001b[0;32m     12\u001b[0m matches \u001b[38;5;241m=\u001b[39m flann\u001b[38;5;241m.\u001b[39mknnMatch(des1,des2,k\u001b[38;5;241m=\u001b[39m\u001b[38;5;241m2\u001b[39m)\n\u001b[0;32m     14\u001b[0m \u001b[38;5;66;03m# Sort them in the order of their distance.\u001b[39;00m\n\u001b[1;32m---> 15\u001b[0m matches \u001b[38;5;241m=\u001b[39m \u001b[38;5;28msorted\u001b[39m(matches, key \u001b[38;5;241m=\u001b[39m \u001b[38;5;28;01mlambda\u001b[39;00m x:x\u001b[38;5;241m.\u001b[39mdistance)\n\u001b[0;32m     17\u001b[0m \u001b[38;5;66;03m# Draw first 10 matches.\u001b[39;00m\n\u001b[0;32m     18\u001b[0m img3 \u001b[38;5;241m=\u001b[39m cv2\u001b[38;5;241m.\u001b[39mdrawMatches(img1,kps1,img2,kps2,matches[:\u001b[38;5;241m10\u001b[39m],\u001b[38;5;28;01mNone\u001b[39;00m,flags\u001b[38;5;241m=\u001b[39mcv2\u001b[38;5;241m.\u001b[39mDrawMatchesFlags_NOT_DRAW_SINGLE_POINTS)\n",
      "\u001b[1;31mAttributeError\u001b[0m: 'tuple' object has no attribute 'distance'"
     ]
    }
   ],
   "source": [
    "img1 = cv2.imread(\"block-faces/Book.png\", cv2.IMREAD_GRAYSCALE)\n",
    "img2 = cv2.imread(\"img1.jpg\", cv2.IMREAD_GRAYSCALE)\n",
    "\n",
    "sift = cv2.SIFT_create()\n",
    "\n",
    "kp1, des1 = orb.detectAndCompute(img1,None)\n",
    "kp2, des2 = orb.detectAndCompute(img2,None)\n",
    "# create BFMatcher object\n",
    "bf = cv2.BFMatcher(cv2.NORM_HAMMING, crossCheck=True)\n",
    "\n",
    "# Match descriptors.\n",
    "matches = bf.match(des1,des2)\n",
    "\n",
    "# Sort them in the order of their distance.\n",
    "matches = sorted(matches, key = lambda x:x.distance)\n",
    "\n",
    "# Draw first 10 matches.\n",
    "img3 = cv2.drawMatches(img1,kp1,img2,kp2,matches[:10], flags=2)\n",
    "plt.imwrite(\"bla.jpg\", img3)"
   ]
  },
  {
   "cell_type": "code",
   "execution_count": null,
   "id": "d14bc36a",
   "metadata": {},
   "outputs": [],
   "source": []
  }
 ],
 "metadata": {
  "kernelspec": {
   "display_name": "Python 3 (ipykernel)",
   "language": "python",
   "name": "python3"
  },
  "language_info": {
   "codemirror_mode": {
    "name": "ipython",
    "version": 3
   },
   "file_extension": ".py",
   "mimetype": "text/x-python",
   "name": "python",
   "nbconvert_exporter": "python",
   "pygments_lexer": "ipython3",
   "version": "3.11.4"
  }
 },
 "nbformat": 4,
 "nbformat_minor": 5
}
